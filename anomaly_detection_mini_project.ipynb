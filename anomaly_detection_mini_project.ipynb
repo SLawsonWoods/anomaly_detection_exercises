{
 "cells": [
  {
   "cell_type": "code",
   "execution_count": null,
   "id": "72027d81",
   "metadata": {},
   "outputs": [],
   "source": [
    "import numpy as np\n",
    "import pandas as pd\n",
    "import seaborn as sns\n",
    "import matplotlib.pyplot as plt\n",
    "%matplotlib inline\n",
    "import itertools\n",
    "\n",
    "import env"
   ]
  },
  {
   "cell_type": "code",
   "execution_count": null,
   "id": "0f026304",
   "metadata": {},
   "outputs": [],
   "source": [
    "url = f'mysql+pymysql://{env.username}:{env.password}@{env.host}/curriculum_logs'\n",
    "df = pd.read_sql('SELECT * FROM logs JOIN cohorts on logs.user_id = cohorts.id', url)"
   ]
  },
  {
   "cell_type": "code",
   "execution_count": null,
   "id": "6a566f14",
   "metadata": {},
   "outputs": [],
   "source": [
    "df.head()"
   ]
  },
  {
   "cell_type": "code",
   "execution_count": null,
   "id": "dde3400e",
   "metadata": {},
   "outputs": [],
   "source": [
    "df.shape"
   ]
  },
  {
   "cell_type": "code",
   "execution_count": null,
   "id": "bf839cb3",
   "metadata": {},
   "outputs": [],
   "source": [
    "df.info()"
   ]
  },
  {
   "cell_type": "code",
   "execution_count": null,
   "id": "f6ed0759",
   "metadata": {},
   "outputs": [],
   "source": [
    "#change the dtypes to the correct types"
   ]
  },
  {
   "cell_type": "code",
   "execution_count": null,
   "id": "e15eb6f5",
   "metadata": {},
   "outputs": [],
   "source": [
    "df.user_id = df.user_id.astype('object')"
   ]
  },
  {
   "cell_type": "code",
   "execution_count": null,
   "id": "d13cd0ea",
   "metadata": {},
   "outputs": [],
   "source": [
    "df.cohort_id = df.cohort_id.astype('object')"
   ]
  },
  {
   "cell_type": "code",
   "execution_count": null,
   "id": "83f82075",
   "metadata": {},
   "outputs": [],
   "source": [
    "df.id = df.id.astype('object')"
   ]
  },
  {
   "cell_type": "code",
   "execution_count": null,
   "id": "f2cde875",
   "metadata": {},
   "outputs": [],
   "source": [
    "df.program_id = df.program_id.astype('object')"
   ]
  },
  {
   "cell_type": "markdown",
   "id": "46d3c9b1",
   "metadata": {},
   "source": [
    "1. Which lesson appears to attract the most traffic consistently across cohorts (per program)?"
   ]
  },
  {
   "cell_type": "code",
   "execution_count": null,
   "id": "b2d1473f",
   "metadata": {},
   "outputs": [],
   "source": [
    "df.path.value_counts(ascending = False)"
   ]
  },
  {
   "cell_type": "markdown",
   "id": "e92dcc19",
   "metadata": {},
   "source": [
    "A: It looks like lesson jacascript-i is the most referenced lesson with 1486 requests"
   ]
  },
  {
   "cell_type": "markdown",
   "id": "7a60e08b",
   "metadata": {},
   "source": [
    "2. Is there a cohort that referred to a lesson significantly more than other cohorts seemed to gloss over?\n"
   ]
  },
  {
   "cell_type": "code",
   "execution_count": null,
   "id": "e89479e8",
   "metadata": {},
   "outputs": [],
   "source": [
    "# I want to concatenate the time and date column\n",
    "df['date'] = df['date'] + ' ' + df['time']"
   ]
  },
  {
   "cell_type": "code",
   "execution_count": null,
   "id": "90895330",
   "metadata": {},
   "outputs": [],
   "source": [
    "df.head()"
   ]
  },
  {
   "cell_type": "code",
   "execution_count": null,
   "id": "76ae25b3",
   "metadata": {},
   "outputs": [],
   "source": [
    "df = df.drop(columns='time')"
   ]
  },
  {
   "cell_type": "code",
   "execution_count": null,
   "id": "b33064d0",
   "metadata": {},
   "outputs": [],
   "source": [
    "# change the df to a datetime index\n",
    "df.date = pd.to_datetime(df.date)\n",
    "df = df.set_index('date')"
   ]
  },
  {
   "cell_type": "code",
   "execution_count": null,
   "id": "97bec33c",
   "metadata": {},
   "outputs": [],
   "source": [
    "df.head()"
   ]
  },
  {
   "cell_type": "code",
   "execution_count": null,
   "id": "6e0a268b",
   "metadata": {},
   "outputs": [],
   "source": [
    "# detect anomalies: start by gettting the count\n",
    "df.path.value_counts()"
   ]
  },
  {
   "cell_type": "code",
   "execution_count": null,
   "id": "9d1a88bf",
   "metadata": {},
   "outputs": [],
   "source": [
    "# next find the frequency in the form of a percentage\n",
    "df.path.value_counts(normalize=True).tail(50)"
   ]
  },
  {
   "cell_type": "code",
   "execution_count": null,
   "id": "5d322da2",
   "metadata": {},
   "outputs": [],
   "source": [
    "def value_counts_and_frequencies(s: pd.Series, dropna=True) -> pd.DataFrame:\n",
    "    return pd.merge(\n",
    "        s.value_counts(dropna=False).rename('count'),\n",
    "        s.value_counts(dropna=False, normalize=True).rename('proba'),\n",
    "        left_index=True,\n",
    "        right_index=True,\n",
    "    )"
   ]
  },
  {
   "cell_type": "code",
   "execution_count": null,
   "id": "f5f9e4da",
   "metadata": {},
   "outputs": [],
   "source": [
    "# create a dataframe\n",
    "path_df = value_counts_and_frequencies(df.path)\n",
    "path_df.head(25)"
   ]
  },
  {
   "cell_type": "code",
   "execution_count": null,
   "id": "07b99c81",
   "metadata": {},
   "outputs": [],
   "source": [
    "# check for missing values\n",
    "df.isna().sum()"
   ]
  },
  {
   "cell_type": "code",
   "execution_count": null,
   "id": "3d977049",
   "metadata": {},
   "outputs": [],
   "source": [
    "#remove missing values\n",
    "df = df[~df['cohort_id'].isnull()]"
   ]
  },
  {
   "cell_type": "code",
   "execution_count": null,
   "id": "1617649f",
   "metadata": {},
   "outputs": [],
   "source": [
    "df.isna().sum()"
   ]
  },
  {
   "cell_type": "code",
   "execution_count": null,
   "id": "5d07f7a8",
   "metadata": {},
   "outputs": [],
   "source": [
    "#dropping the column deleted_at since I won't need that for anything\n",
    "df = df.drop(columns='deleted_at')"
   ]
  },
  {
   "cell_type": "code",
   "execution_count": null,
   "id": "adf10d9b",
   "metadata": {},
   "outputs": [],
   "source": [
    "df.shape"
   ]
  },
  {
   "cell_type": "code",
   "execution_count": null,
   "id": "811049f4",
   "metadata": {},
   "outputs": [],
   "source": [
    "# conditional probabilities --- cohort given path\n",
    "cohort_id_given_path = (\n",
    "    df.groupby('path')\n",
    "    .cohort_id.value_counts(normalize=True)\n",
    "    .rename('proba_cohort_id_given_path')\n",
    "    .reset_index()\n",
    ")\n",
    "cohort_id_given_path.head(30)"
   ]
  },
  {
   "cell_type": "code",
   "execution_count": null,
   "id": "50b2e391",
   "metadata": {},
   "outputs": [],
   "source": [
    "# there are 1436 paths "
   ]
  },
  {
   "cell_type": "code",
   "execution_count": null,
   "id": "2cb777b4",
   "metadata": {},
   "outputs": [],
   "source": [
    "# look at classification/knn and class/log reg as possible anomalies\n",
    "# there are many more that are accessed by cohort 28-staff only "
   ]
  },
  {
   "cell_type": "code",
   "execution_count": null,
   "id": "5ecaef61",
   "metadata": {},
   "outputs": [],
   "source": [
    "df[df.path == 'classification/knn']"
   ]
  },
  {
   "cell_type": "markdown",
   "id": "eb0cd1a8",
   "metadata": {},
   "source": [
    "- possible anomalies:\n",
    "\n",
    "do these lessons (class/knn and class/log-reg no longer exist is that why it was accessed solely by cohort 28?\n"
   ]
  },
  {
   "cell_type": "code",
   "execution_count": null,
   "id": "43aa9739",
   "metadata": {},
   "outputs": [],
   "source": [
    "# going back to exploring each feature individually"
   ]
  },
  {
   "cell_type": "code",
   "execution_count": null,
   "id": "c93b652a",
   "metadata": {},
   "outputs": [],
   "source": [
    "# detect anomalies start by gettting the count\n",
    "df.ip.value_counts()"
   ]
  },
  {
   "cell_type": "code",
   "execution_count": null,
   "id": "08762593",
   "metadata": {},
   "outputs": [],
   "source": [
    "# next find the frequency in the form of a percentage\n",
    "df.ip.value_counts(normalize=True)"
   ]
  },
  {
   "cell_type": "code",
   "execution_count": null,
   "id": "b2da65e6",
   "metadata": {},
   "outputs": [],
   "source": [
    "# this tells me with ip address 97.105.19.61 doing .379 of the requests it is probably\n",
    "# the Code up ip address"
   ]
  },
  {
   "cell_type": "code",
   "execution_count": null,
   "id": "65df212c",
   "metadata": {},
   "outputs": [],
   "source": [
    "def value_counts_and_frequencies(s: pd.Series, dropna=True) -> pd.DataFrame:\n",
    "    return pd.merge(\n",
    "        s.value_counts(dropna=False).rename('count'),\n",
    "        s.value_counts(dropna=False, normalize=True).rename('proba'),\n",
    "        left_index=True,\n",
    "        right_index=True,\n",
    "    )"
   ]
  },
  {
   "cell_type": "code",
   "execution_count": null,
   "id": "c89dc6f6",
   "metadata": {},
   "outputs": [],
   "source": [
    "# create a dataframe\n",
    "ip_df = value_counts_and_frequencies(df.ip)\n",
    "ip_df.head(20)"
   ]
  },
  {
   "cell_type": "code",
   "execution_count": null,
   "id": "7f25bfda",
   "metadata": {},
   "outputs": [],
   "source": [
    "# conditional probabilities\n",
    "cohort_id_given_ip = (\n",
    "    df.groupby('ip')\n",
    "    .cohort_id.value_counts(normalize=True)\n",
    "    .rename('proba_cohort_id_given_ip')\n",
    "    .reset_index()\n",
    ")\n",
    "cohort_id_given_ip.head()"
   ]
  },
  {
   "cell_type": "code",
   "execution_count": null,
   "id": "4b90f82f",
   "metadata": {},
   "outputs": [],
   "source": [
    "# looking for anomalies\n",
    "\n",
    "cohort_id_given_ip[cohort_id_given_ip.proba_cohort_id_given_ip < 1].head(30)"
   ]
  },
  {
   "cell_type": "code",
   "execution_count": null,
   "id": "cbc7b4af",
   "metadata": {},
   "outputs": [],
   "source": [
    "# let's look more into cohort_id"
   ]
  },
  {
   "cell_type": "code",
   "execution_count": null,
   "id": "6e6843a6",
   "metadata": {},
   "outputs": [],
   "source": [
    "# detect anomalies start by gettting the count\n",
    "df.cohort_id.value_counts()"
   ]
  },
  {
   "cell_type": "code",
   "execution_count": null,
   "id": "6d9c5070",
   "metadata": {},
   "outputs": [],
   "source": [
    "# next find the frequency in the form of a percentage\n",
    "df.cohort_id.value_counts(normalize=True)"
   ]
  },
  {
   "cell_type": "code",
   "execution_count": null,
   "id": "e063254f",
   "metadata": {},
   "outputs": [],
   "source": [
    "def value_counts_and_frequencies(s: pd.Series, dropna=True) -> pd.DataFrame:\n",
    "    return pd.merge(\n",
    "        s.value_counts(dropna=False).rename('count'),\n",
    "        s.value_counts(dropna=False, normalize=True).rename('proba'),\n",
    "        left_index=True,\n",
    "        right_index=True,\n",
    "    )"
   ]
  },
  {
   "cell_type": "code",
   "execution_count": null,
   "id": "d279e7bf",
   "metadata": {},
   "outputs": [],
   "source": [
    "# create a dataframe\n",
    "cohort_id_df = value_counts_and_frequencies(df.cohort_id)\n",
    "cohort_id_df"
   ]
  },
  {
   "cell_type": "code",
   "execution_count": null,
   "id": "f3b14728",
   "metadata": {},
   "outputs": [],
   "source": [
    "# conditional probabilities\n",
    "cohort_id_given_start_date = (\n",
    "    df.groupby('start_date')\n",
    "    .cohort_id.value_counts(normalize=True)\n",
    "    .rename('proba_cohort_id_start_date')\n",
    "    .reset_index()\n",
    ")\n",
    "cohort_id_given_start_date.head()"
   ]
  },
  {
   "cell_type": "markdown",
   "id": "95637fae",
   "metadata": {},
   "source": [
    "there seems to be an anomaly either line 3 or 4 because there can't be 100%  chance that the start date for cohort 22 was both June and August of 2014"
   ]
  },
  {
   "cell_type": "code",
   "execution_count": null,
   "id": "6814a74c",
   "metadata": {},
   "outputs": [],
   "source": [
    "# let's look more at start_date individually"
   ]
  },
  {
   "cell_type": "code",
   "execution_count": null,
   "id": "378311f1",
   "metadata": {},
   "outputs": [],
   "source": [
    "# detect anomalies start by gettting the count\n",
    "df.start_date.value_counts(ascending = False)"
   ]
  },
  {
   "cell_type": "code",
   "execution_count": null,
   "id": "58c9e1f4",
   "metadata": {},
   "outputs": [],
   "source": [
    "# next find the frequency in the form of a percentage\n",
    "df.start_date.value_counts(normalize=True)"
   ]
  },
  {
   "cell_type": "code",
   "execution_count": null,
   "id": "cd47907f",
   "metadata": {},
   "outputs": [],
   "source": [
    "# create a dataframe\n",
    "start_date_df = value_counts_and_frequencies(df.start_date)\n",
    "start_date_df.head()"
   ]
  },
  {
   "cell_type": "code",
   "execution_count": null,
   "id": "5c6f56f2",
   "metadata": {},
   "outputs": [],
   "source": [
    "# conditional probabilities\n",
    "start_date_given_ip = (\n",
    "    df.groupby('ip')\n",
    "    .start_date.value_counts(normalize=True)\n",
    "    .rename('proba_start_date_given_ip')\n",
    "    .reset_index()\n",
    ")\n",
    "start_date_given_ip"
   ]
  },
  {
   "cell_type": "code",
   "execution_count": null,
   "id": "4a753d08",
   "metadata": {},
   "outputs": [],
   "source": [
    "# looking for anomalies\n",
    "start_date_given_ip[start_date_given_ip.proba_start_date_given_ip < 1]"
   ]
  },
  {
   "cell_type": "markdown",
   "id": "d10f9094",
   "metadata": {},
   "source": [
    "for these ip addresses with more than one start date any ip location other than \n",
    "97.105.19.61 which I determined was the Code up location may be anomalies, so let's look at just those other addresses"
   ]
  },
  {
   "cell_type": "code",
   "execution_count": null,
   "id": "7708d233",
   "metadata": {},
   "outputs": [],
   "source": [
    "df.ip[df.ip != '97.105.19.61'].head(30)"
   ]
  },
  {
   "cell_type": "code",
   "execution_count": null,
   "id": "979bcefe",
   "metadata": {},
   "outputs": [],
   "source": [
    "start_date_given_ip[start_date_given_ip.ip != '97.105.19.61']"
   ]
  },
  {
   "cell_type": "code",
   "execution_count": null,
   "id": "59b61c08",
   "metadata": {},
   "outputs": [],
   "source": [
    "# if I want to answer which cohorts are accessing which paths the most"
   ]
  },
  {
   "cell_type": "code",
   "execution_count": null,
   "id": "65b2dddc",
   "metadata": {},
   "outputs": [],
   "source": [
    "df['path_1'] = df.path.str.split('/').str[0]\n",
    "\n",
    "df['path_2'] = df.path.str.split('/').str[1]"
   ]
  },
  {
   "cell_type": "code",
   "execution_count": null,
   "id": "d1371c14",
   "metadata": {},
   "outputs": [],
   "source": [
    "df.head(50)"
   ]
  },
  {
   "cell_type": "markdown",
   "id": "a5d1467b",
   "metadata": {},
   "source": [
    "3. Are there students who, when active, hardly access the curriculum? If so, what information do you have about these students?\n",
    "\n",
    "So here I want to find the 'active' dates for students and after that note anything else that might be useful to include about these individuals.\n",
    "\n"
   ]
  },
  {
   "cell_type": "markdown",
   "id": "16be562e",
   "metadata": {},
   "source": [
    "Anomaly detection is not about a specific methodology just find it witht the Pandas I know"
   ]
  }
 ],
 "metadata": {
  "kernelspec": {
   "display_name": "Python 3",
   "language": "python",
   "name": "python3"
  },
  "language_info": {
   "codemirror_mode": {
    "name": "ipython",
    "version": 3
   },
   "file_extension": ".py",
   "mimetype": "text/x-python",
   "name": "python",
   "nbconvert_exporter": "python",
   "pygments_lexer": "ipython3",
   "version": "3.8.8"
  }
 },
 "nbformat": 4,
 "nbformat_minor": 5
}
