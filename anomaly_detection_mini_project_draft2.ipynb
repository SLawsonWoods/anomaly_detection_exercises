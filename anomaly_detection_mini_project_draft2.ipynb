{
 "cells": [
  {
   "cell_type": "code",
   "execution_count": 2,
   "id": "72027d81",
   "metadata": {},
   "outputs": [],
   "source": [
    "import numpy as np\n",
    "import pandas as pd\n",
    "import seaborn as sns\n",
    "import matplotlib.pyplot as plt\n",
    "%matplotlib inline\n",
    "import itertools\n",
    "\n",
    "import env"
   ]
  },
  {
   "cell_type": "code",
   "execution_count": 3,
   "id": "0f026304",
   "metadata": {},
   "outputs": [],
   "source": [
    "url = f'mysql+pymysql://{env.username}:{env.password}@{env.host}/curriculum_logs'\n",
    "df = pd.read_sql('SELECT * FROM logs JOIN cohorts on logs.user_id = cohorts.id', url)"
   ]
  },
  {
   "cell_type": "code",
   "execution_count": 4,
   "id": "6a566f14",
   "metadata": {},
   "outputs": [
    {
     "data": {
      "text/html": [
       "<div>\n",
       "<style scoped>\n",
       "    .dataframe tbody tr th:only-of-type {\n",
       "        vertical-align: middle;\n",
       "    }\n",
       "\n",
       "    .dataframe tbody tr th {\n",
       "        vertical-align: top;\n",
       "    }\n",
       "\n",
       "    .dataframe thead th {\n",
       "        text-align: right;\n",
       "    }\n",
       "</style>\n",
       "<table border=\"1\" class=\"dataframe\">\n",
       "  <thead>\n",
       "    <tr style=\"text-align: right;\">\n",
       "      <th></th>\n",
       "      <th>date</th>\n",
       "      <th>time</th>\n",
       "      <th>path</th>\n",
       "      <th>user_id</th>\n",
       "      <th>cohort_id</th>\n",
       "      <th>ip</th>\n",
       "      <th>id</th>\n",
       "      <th>name</th>\n",
       "      <th>slack</th>\n",
       "      <th>start_date</th>\n",
       "      <th>end_date</th>\n",
       "      <th>created_at</th>\n",
       "      <th>updated_at</th>\n",
       "      <th>deleted_at</th>\n",
       "      <th>program_id</th>\n",
       "    </tr>\n",
       "  </thead>\n",
       "  <tbody>\n",
       "    <tr>\n",
       "      <th>0</th>\n",
       "      <td>2018-01-26</td>\n",
       "      <td>09:55:03</td>\n",
       "      <td>/</td>\n",
       "      <td>1</td>\n",
       "      <td>8.0</td>\n",
       "      <td>97.105.19.61</td>\n",
       "      <td>1</td>\n",
       "      <td>Arches</td>\n",
       "      <td>#arches</td>\n",
       "      <td>2014-02-04</td>\n",
       "      <td>2014-04-22</td>\n",
       "      <td>2016-06-14 19:52:26</td>\n",
       "      <td>2016-06-14 19:52:26</td>\n",
       "      <td>None</td>\n",
       "      <td>1</td>\n",
       "    </tr>\n",
       "    <tr>\n",
       "      <th>1</th>\n",
       "      <td>2018-01-26</td>\n",
       "      <td>09:56:02</td>\n",
       "      <td>java-ii</td>\n",
       "      <td>1</td>\n",
       "      <td>8.0</td>\n",
       "      <td>97.105.19.61</td>\n",
       "      <td>1</td>\n",
       "      <td>Arches</td>\n",
       "      <td>#arches</td>\n",
       "      <td>2014-02-04</td>\n",
       "      <td>2014-04-22</td>\n",
       "      <td>2016-06-14 19:52:26</td>\n",
       "      <td>2016-06-14 19:52:26</td>\n",
       "      <td>None</td>\n",
       "      <td>1</td>\n",
       "    </tr>\n",
       "    <tr>\n",
       "      <th>2</th>\n",
       "      <td>2018-01-26</td>\n",
       "      <td>09:56:05</td>\n",
       "      <td>java-ii/object-oriented-programming</td>\n",
       "      <td>1</td>\n",
       "      <td>8.0</td>\n",
       "      <td>97.105.19.61</td>\n",
       "      <td>1</td>\n",
       "      <td>Arches</td>\n",
       "      <td>#arches</td>\n",
       "      <td>2014-02-04</td>\n",
       "      <td>2014-04-22</td>\n",
       "      <td>2016-06-14 19:52:26</td>\n",
       "      <td>2016-06-14 19:52:26</td>\n",
       "      <td>None</td>\n",
       "      <td>1</td>\n",
       "    </tr>\n",
       "    <tr>\n",
       "      <th>3</th>\n",
       "      <td>2018-01-26</td>\n",
       "      <td>09:56:06</td>\n",
       "      <td>slides/object_oriented_programming</td>\n",
       "      <td>1</td>\n",
       "      <td>8.0</td>\n",
       "      <td>97.105.19.61</td>\n",
       "      <td>1</td>\n",
       "      <td>Arches</td>\n",
       "      <td>#arches</td>\n",
       "      <td>2014-02-04</td>\n",
       "      <td>2014-04-22</td>\n",
       "      <td>2016-06-14 19:52:26</td>\n",
       "      <td>2016-06-14 19:52:26</td>\n",
       "      <td>None</td>\n",
       "      <td>1</td>\n",
       "    </tr>\n",
       "    <tr>\n",
       "      <th>4</th>\n",
       "      <td>2018-01-26</td>\n",
       "      <td>09:56:24</td>\n",
       "      <td>javascript-i/conditionals</td>\n",
       "      <td>2</td>\n",
       "      <td>22.0</td>\n",
       "      <td>97.105.19.61</td>\n",
       "      <td>2</td>\n",
       "      <td>Badlands</td>\n",
       "      <td>#badlands</td>\n",
       "      <td>2014-06-04</td>\n",
       "      <td>2014-08-22</td>\n",
       "      <td>2016-06-14 19:52:26</td>\n",
       "      <td>2016-06-14 19:52:26</td>\n",
       "      <td>None</td>\n",
       "      <td>1</td>\n",
       "    </tr>\n",
       "  </tbody>\n",
       "</table>\n",
       "</div>"
      ],
      "text/plain": [
       "         date      time                                 path  user_id  \\\n",
       "0  2018-01-26  09:55:03                                    /        1   \n",
       "1  2018-01-26  09:56:02                              java-ii        1   \n",
       "2  2018-01-26  09:56:05  java-ii/object-oriented-programming        1   \n",
       "3  2018-01-26  09:56:06   slides/object_oriented_programming        1   \n",
       "4  2018-01-26  09:56:24            javascript-i/conditionals        2   \n",
       "\n",
       "   cohort_id            ip  id      name      slack  start_date    end_date  \\\n",
       "0        8.0  97.105.19.61   1    Arches    #arches  2014-02-04  2014-04-22   \n",
       "1        8.0  97.105.19.61   1    Arches    #arches  2014-02-04  2014-04-22   \n",
       "2        8.0  97.105.19.61   1    Arches    #arches  2014-02-04  2014-04-22   \n",
       "3        8.0  97.105.19.61   1    Arches    #arches  2014-02-04  2014-04-22   \n",
       "4       22.0  97.105.19.61   2  Badlands  #badlands  2014-06-04  2014-08-22   \n",
       "\n",
       "            created_at           updated_at deleted_at  program_id  \n",
       "0  2016-06-14 19:52:26  2016-06-14 19:52:26       None           1  \n",
       "1  2016-06-14 19:52:26  2016-06-14 19:52:26       None           1  \n",
       "2  2016-06-14 19:52:26  2016-06-14 19:52:26       None           1  \n",
       "3  2016-06-14 19:52:26  2016-06-14 19:52:26       None           1  \n",
       "4  2016-06-14 19:52:26  2016-06-14 19:52:26       None           1  "
      ]
     },
     "execution_count": 4,
     "metadata": {},
     "output_type": "execute_result"
    }
   ],
   "source": [
    "df.head()"
   ]
  },
  {
   "cell_type": "code",
   "execution_count": 5,
   "id": "bf839cb3",
   "metadata": {},
   "outputs": [
    {
     "name": "stdout",
     "output_type": "stream",
     "text": [
      "<class 'pandas.core.frame.DataFrame'>\n",
      "RangeIndex: 73739 entries, 0 to 73738\n",
      "Data columns (total 15 columns):\n",
      " #   Column      Non-Null Count  Dtype  \n",
      "---  ------      --------------  -----  \n",
      " 0   date        73739 non-null  object \n",
      " 1   time        73739 non-null  object \n",
      " 2   path        73739 non-null  object \n",
      " 3   user_id     73739 non-null  int64  \n",
      " 4   cohort_id   72405 non-null  float64\n",
      " 5   ip          73739 non-null  object \n",
      " 6   id          73739 non-null  int64  \n",
      " 7   name        73739 non-null  object \n",
      " 8   slack       73739 non-null  object \n",
      " 9   start_date  73739 non-null  object \n",
      " 10  end_date    73739 non-null  object \n",
      " 11  created_at  73739 non-null  object \n",
      " 12  updated_at  73739 non-null  object \n",
      " 13  deleted_at  0 non-null      object \n",
      " 14  program_id  73739 non-null  int64  \n",
      "dtypes: float64(1), int64(3), object(11)\n",
      "memory usage: 8.4+ MB\n"
     ]
    }
   ],
   "source": [
    "df.info()"
   ]
  },
  {
   "cell_type": "markdown",
   "id": "8b9b15c0",
   "metadata": {},
   "source": [
    "### Prepare"
   ]
  },
  {
   "cell_type": "code",
   "execution_count": 6,
   "id": "f6ed0759",
   "metadata": {},
   "outputs": [],
   "source": [
    "#change the dtypes to the correct types"
   ]
  },
  {
   "cell_type": "code",
   "execution_count": 7,
   "id": "e15eb6f5",
   "metadata": {},
   "outputs": [],
   "source": [
    "df.user_id = df.user_id.astype('object')"
   ]
  },
  {
   "cell_type": "code",
   "execution_count": 8,
   "id": "d13cd0ea",
   "metadata": {},
   "outputs": [],
   "source": [
    "df.cohort_id = df.cohort_id.astype('object')"
   ]
  },
  {
   "cell_type": "code",
   "execution_count": 9,
   "id": "83f82075",
   "metadata": {},
   "outputs": [],
   "source": [
    "df.id = df.id.astype('object')"
   ]
  },
  {
   "cell_type": "code",
   "execution_count": 10,
   "id": "f2cde875",
   "metadata": {},
   "outputs": [],
   "source": [
    "df.program_id = df.program_id.astype('object')"
   ]
  },
  {
   "cell_type": "markdown",
   "id": "46d3c9b1",
   "metadata": {},
   "source": [
    "1. Which lesson appears to attract the most traffic consistently across cohorts (per program)?"
   ]
  },
  {
   "cell_type": "code",
   "execution_count": 11,
   "id": "b2d1473f",
   "metadata": {},
   "outputs": [
    {
     "data": {
      "text/plain": [
       "/                                                                                                                                                                                                                                                                          5056\n",
       "index.html                                                                                                                                                                                                                                                                 1520\n",
       "javascript-i                                                                                                                                                                                                                                                               1486\n",
       "spring                                                                                                                                                                                                                                                                     1401\n",
       "java-iii                                                                                                                                                                                                                                                                   1237\n",
       "                                                                                                                                                                                                                                                                           ... \n",
       "students/643/This%20alumnus%20works%20for%20Appdiction%20Studios,%20as%20of%20this%20timestamp.%20This%20company%20is%20launching%20a%20bootcamp%20program%20in%20competition.%20For%20this%20reason,%20curriculum%20access%20is%20disabled%20until%20further%20notice.       1\n",
       "2.02.02_Functions                                                                                                                                                                                                                                                             1\n",
       "11.04.03_Prepare_part3                                                                                                                                                                                                                                                        1\n",
       "appendix/professional-development/vertical-resume                                                                                                                                                                                                                             1\n",
       "9.4_Detecting_TimeSeries_Anomalies                                                                                                                                                                                                                                            1\n",
       "Name: path, Length: 1442, dtype: int64"
      ]
     },
     "execution_count": 11,
     "metadata": {},
     "output_type": "execute_result"
    }
   ],
   "source": [
    "df.path.value_counts(ascending = False)"
   ]
  },
  {
   "cell_type": "markdown",
   "id": "e92dcc19",
   "metadata": {},
   "source": [
    "A: It looks like lesson jacascript-i is the most referenced lesson with 1486 requests\n",
    "A: Als"
   ]
  },
  {
   "cell_type": "markdown",
   "id": "7a60e08b",
   "metadata": {},
   "source": [
    "2. Is there a cohort that referred to a lesson significantly more than other cohorts seemed to gloss over?\n"
   ]
  },
  {
   "cell_type": "code",
   "execution_count": 12,
   "id": "e89479e8",
   "metadata": {},
   "outputs": [],
   "source": [
    "# I want to concatenate the time and date column\n",
    "df['date'] = df['date'] + ' ' + df['time']"
   ]
  },
  {
   "cell_type": "code",
   "execution_count": 13,
   "id": "90895330",
   "metadata": {},
   "outputs": [
    {
     "data": {
      "text/html": [
       "<div>\n",
       "<style scoped>\n",
       "    .dataframe tbody tr th:only-of-type {\n",
       "        vertical-align: middle;\n",
       "    }\n",
       "\n",
       "    .dataframe tbody tr th {\n",
       "        vertical-align: top;\n",
       "    }\n",
       "\n",
       "    .dataframe thead th {\n",
       "        text-align: right;\n",
       "    }\n",
       "</style>\n",
       "<table border=\"1\" class=\"dataframe\">\n",
       "  <thead>\n",
       "    <tr style=\"text-align: right;\">\n",
       "      <th></th>\n",
       "      <th>date</th>\n",
       "      <th>time</th>\n",
       "      <th>path</th>\n",
       "      <th>user_id</th>\n",
       "      <th>cohort_id</th>\n",
       "      <th>ip</th>\n",
       "      <th>id</th>\n",
       "      <th>name</th>\n",
       "      <th>slack</th>\n",
       "      <th>start_date</th>\n",
       "      <th>end_date</th>\n",
       "      <th>created_at</th>\n",
       "      <th>updated_at</th>\n",
       "      <th>deleted_at</th>\n",
       "      <th>program_id</th>\n",
       "    </tr>\n",
       "  </thead>\n",
       "  <tbody>\n",
       "    <tr>\n",
       "      <th>0</th>\n",
       "      <td>2018-01-26 09:55:03</td>\n",
       "      <td>09:55:03</td>\n",
       "      <td>/</td>\n",
       "      <td>1</td>\n",
       "      <td>8.0</td>\n",
       "      <td>97.105.19.61</td>\n",
       "      <td>1</td>\n",
       "      <td>Arches</td>\n",
       "      <td>#arches</td>\n",
       "      <td>2014-02-04</td>\n",
       "      <td>2014-04-22</td>\n",
       "      <td>2016-06-14 19:52:26</td>\n",
       "      <td>2016-06-14 19:52:26</td>\n",
       "      <td>None</td>\n",
       "      <td>1</td>\n",
       "    </tr>\n",
       "    <tr>\n",
       "      <th>1</th>\n",
       "      <td>2018-01-26 09:56:02</td>\n",
       "      <td>09:56:02</td>\n",
       "      <td>java-ii</td>\n",
       "      <td>1</td>\n",
       "      <td>8.0</td>\n",
       "      <td>97.105.19.61</td>\n",
       "      <td>1</td>\n",
       "      <td>Arches</td>\n",
       "      <td>#arches</td>\n",
       "      <td>2014-02-04</td>\n",
       "      <td>2014-04-22</td>\n",
       "      <td>2016-06-14 19:52:26</td>\n",
       "      <td>2016-06-14 19:52:26</td>\n",
       "      <td>None</td>\n",
       "      <td>1</td>\n",
       "    </tr>\n",
       "    <tr>\n",
       "      <th>2</th>\n",
       "      <td>2018-01-26 09:56:05</td>\n",
       "      <td>09:56:05</td>\n",
       "      <td>java-ii/object-oriented-programming</td>\n",
       "      <td>1</td>\n",
       "      <td>8.0</td>\n",
       "      <td>97.105.19.61</td>\n",
       "      <td>1</td>\n",
       "      <td>Arches</td>\n",
       "      <td>#arches</td>\n",
       "      <td>2014-02-04</td>\n",
       "      <td>2014-04-22</td>\n",
       "      <td>2016-06-14 19:52:26</td>\n",
       "      <td>2016-06-14 19:52:26</td>\n",
       "      <td>None</td>\n",
       "      <td>1</td>\n",
       "    </tr>\n",
       "    <tr>\n",
       "      <th>3</th>\n",
       "      <td>2018-01-26 09:56:06</td>\n",
       "      <td>09:56:06</td>\n",
       "      <td>slides/object_oriented_programming</td>\n",
       "      <td>1</td>\n",
       "      <td>8.0</td>\n",
       "      <td>97.105.19.61</td>\n",
       "      <td>1</td>\n",
       "      <td>Arches</td>\n",
       "      <td>#arches</td>\n",
       "      <td>2014-02-04</td>\n",
       "      <td>2014-04-22</td>\n",
       "      <td>2016-06-14 19:52:26</td>\n",
       "      <td>2016-06-14 19:52:26</td>\n",
       "      <td>None</td>\n",
       "      <td>1</td>\n",
       "    </tr>\n",
       "    <tr>\n",
       "      <th>4</th>\n",
       "      <td>2018-01-26 09:56:24</td>\n",
       "      <td>09:56:24</td>\n",
       "      <td>javascript-i/conditionals</td>\n",
       "      <td>2</td>\n",
       "      <td>22.0</td>\n",
       "      <td>97.105.19.61</td>\n",
       "      <td>2</td>\n",
       "      <td>Badlands</td>\n",
       "      <td>#badlands</td>\n",
       "      <td>2014-06-04</td>\n",
       "      <td>2014-08-22</td>\n",
       "      <td>2016-06-14 19:52:26</td>\n",
       "      <td>2016-06-14 19:52:26</td>\n",
       "      <td>None</td>\n",
       "      <td>1</td>\n",
       "    </tr>\n",
       "  </tbody>\n",
       "</table>\n",
       "</div>"
      ],
      "text/plain": [
       "                  date      time                                 path user_id  \\\n",
       "0  2018-01-26 09:55:03  09:55:03                                    /       1   \n",
       "1  2018-01-26 09:56:02  09:56:02                              java-ii       1   \n",
       "2  2018-01-26 09:56:05  09:56:05  java-ii/object-oriented-programming       1   \n",
       "3  2018-01-26 09:56:06  09:56:06   slides/object_oriented_programming       1   \n",
       "4  2018-01-26 09:56:24  09:56:24            javascript-i/conditionals       2   \n",
       "\n",
       "  cohort_id            ip id      name      slack  start_date    end_date  \\\n",
       "0       8.0  97.105.19.61  1    Arches    #arches  2014-02-04  2014-04-22   \n",
       "1       8.0  97.105.19.61  1    Arches    #arches  2014-02-04  2014-04-22   \n",
       "2       8.0  97.105.19.61  1    Arches    #arches  2014-02-04  2014-04-22   \n",
       "3       8.0  97.105.19.61  1    Arches    #arches  2014-02-04  2014-04-22   \n",
       "4      22.0  97.105.19.61  2  Badlands  #badlands  2014-06-04  2014-08-22   \n",
       "\n",
       "            created_at           updated_at deleted_at program_id  \n",
       "0  2016-06-14 19:52:26  2016-06-14 19:52:26       None          1  \n",
       "1  2016-06-14 19:52:26  2016-06-14 19:52:26       None          1  \n",
       "2  2016-06-14 19:52:26  2016-06-14 19:52:26       None          1  \n",
       "3  2016-06-14 19:52:26  2016-06-14 19:52:26       None          1  \n",
       "4  2016-06-14 19:52:26  2016-06-14 19:52:26       None          1  "
      ]
     },
     "execution_count": 13,
     "metadata": {},
     "output_type": "execute_result"
    }
   ],
   "source": [
    "df.head()"
   ]
  },
  {
   "cell_type": "code",
   "execution_count": 14,
   "id": "76ae25b3",
   "metadata": {},
   "outputs": [],
   "source": [
    "df = df.drop(columns='time')"
   ]
  },
  {
   "cell_type": "code",
   "execution_count": 15,
   "id": "9cb44662",
   "metadata": {},
   "outputs": [],
   "source": [
    "df.date = pd.to_datetime(df.date, utc=True)\n",
    "df = df.set_index('date')"
   ]
  },
  {
   "cell_type": "code",
   "execution_count": 16,
   "id": "7fb7b533",
   "metadata": {},
   "outputs": [
    {
     "data": {
      "text/html": [
       "<div>\n",
       "<style scoped>\n",
       "    .dataframe tbody tr th:only-of-type {\n",
       "        vertical-align: middle;\n",
       "    }\n",
       "\n",
       "    .dataframe tbody tr th {\n",
       "        vertical-align: top;\n",
       "    }\n",
       "\n",
       "    .dataframe thead th {\n",
       "        text-align: right;\n",
       "    }\n",
       "</style>\n",
       "<table border=\"1\" class=\"dataframe\">\n",
       "  <thead>\n",
       "    <tr style=\"text-align: right;\">\n",
       "      <th></th>\n",
       "      <th>path</th>\n",
       "      <th>user_id</th>\n",
       "      <th>cohort_id</th>\n",
       "      <th>ip</th>\n",
       "      <th>id</th>\n",
       "      <th>name</th>\n",
       "      <th>slack</th>\n",
       "      <th>start_date</th>\n",
       "      <th>end_date</th>\n",
       "      <th>created_at</th>\n",
       "      <th>updated_at</th>\n",
       "      <th>deleted_at</th>\n",
       "      <th>program_id</th>\n",
       "    </tr>\n",
       "    <tr>\n",
       "      <th>date</th>\n",
       "      <th></th>\n",
       "      <th></th>\n",
       "      <th></th>\n",
       "      <th></th>\n",
       "      <th></th>\n",
       "      <th></th>\n",
       "      <th></th>\n",
       "      <th></th>\n",
       "      <th></th>\n",
       "      <th></th>\n",
       "      <th></th>\n",
       "      <th></th>\n",
       "      <th></th>\n",
       "    </tr>\n",
       "  </thead>\n",
       "  <tbody>\n",
       "    <tr>\n",
       "      <th>2018-01-26 09:55:03+00:00</th>\n",
       "      <td>/</td>\n",
       "      <td>1</td>\n",
       "      <td>8.0</td>\n",
       "      <td>97.105.19.61</td>\n",
       "      <td>1</td>\n",
       "      <td>Arches</td>\n",
       "      <td>#arches</td>\n",
       "      <td>2014-02-04</td>\n",
       "      <td>2014-04-22</td>\n",
       "      <td>2016-06-14 19:52:26</td>\n",
       "      <td>2016-06-14 19:52:26</td>\n",
       "      <td>None</td>\n",
       "      <td>1</td>\n",
       "    </tr>\n",
       "    <tr>\n",
       "      <th>2018-01-26 09:56:02+00:00</th>\n",
       "      <td>java-ii</td>\n",
       "      <td>1</td>\n",
       "      <td>8.0</td>\n",
       "      <td>97.105.19.61</td>\n",
       "      <td>1</td>\n",
       "      <td>Arches</td>\n",
       "      <td>#arches</td>\n",
       "      <td>2014-02-04</td>\n",
       "      <td>2014-04-22</td>\n",
       "      <td>2016-06-14 19:52:26</td>\n",
       "      <td>2016-06-14 19:52:26</td>\n",
       "      <td>None</td>\n",
       "      <td>1</td>\n",
       "    </tr>\n",
       "    <tr>\n",
       "      <th>2018-01-26 09:56:05+00:00</th>\n",
       "      <td>java-ii/object-oriented-programming</td>\n",
       "      <td>1</td>\n",
       "      <td>8.0</td>\n",
       "      <td>97.105.19.61</td>\n",
       "      <td>1</td>\n",
       "      <td>Arches</td>\n",
       "      <td>#arches</td>\n",
       "      <td>2014-02-04</td>\n",
       "      <td>2014-04-22</td>\n",
       "      <td>2016-06-14 19:52:26</td>\n",
       "      <td>2016-06-14 19:52:26</td>\n",
       "      <td>None</td>\n",
       "      <td>1</td>\n",
       "    </tr>\n",
       "    <tr>\n",
       "      <th>2018-01-26 09:56:06+00:00</th>\n",
       "      <td>slides/object_oriented_programming</td>\n",
       "      <td>1</td>\n",
       "      <td>8.0</td>\n",
       "      <td>97.105.19.61</td>\n",
       "      <td>1</td>\n",
       "      <td>Arches</td>\n",
       "      <td>#arches</td>\n",
       "      <td>2014-02-04</td>\n",
       "      <td>2014-04-22</td>\n",
       "      <td>2016-06-14 19:52:26</td>\n",
       "      <td>2016-06-14 19:52:26</td>\n",
       "      <td>None</td>\n",
       "      <td>1</td>\n",
       "    </tr>\n",
       "    <tr>\n",
       "      <th>2018-01-26 09:56:24+00:00</th>\n",
       "      <td>javascript-i/conditionals</td>\n",
       "      <td>2</td>\n",
       "      <td>22.0</td>\n",
       "      <td>97.105.19.61</td>\n",
       "      <td>2</td>\n",
       "      <td>Badlands</td>\n",
       "      <td>#badlands</td>\n",
       "      <td>2014-06-04</td>\n",
       "      <td>2014-08-22</td>\n",
       "      <td>2016-06-14 19:52:26</td>\n",
       "      <td>2016-06-14 19:52:26</td>\n",
       "      <td>None</td>\n",
       "      <td>1</td>\n",
       "    </tr>\n",
       "  </tbody>\n",
       "</table>\n",
       "</div>"
      ],
      "text/plain": [
       "                                                          path user_id  \\\n",
       "date                                                                     \n",
       "2018-01-26 09:55:03+00:00                                    /       1   \n",
       "2018-01-26 09:56:02+00:00                              java-ii       1   \n",
       "2018-01-26 09:56:05+00:00  java-ii/object-oriented-programming       1   \n",
       "2018-01-26 09:56:06+00:00   slides/object_oriented_programming       1   \n",
       "2018-01-26 09:56:24+00:00            javascript-i/conditionals       2   \n",
       "\n",
       "                          cohort_id            ip id      name      slack  \\\n",
       "date                                                                        \n",
       "2018-01-26 09:55:03+00:00       8.0  97.105.19.61  1    Arches    #arches   \n",
       "2018-01-26 09:56:02+00:00       8.0  97.105.19.61  1    Arches    #arches   \n",
       "2018-01-26 09:56:05+00:00       8.0  97.105.19.61  1    Arches    #arches   \n",
       "2018-01-26 09:56:06+00:00       8.0  97.105.19.61  1    Arches    #arches   \n",
       "2018-01-26 09:56:24+00:00      22.0  97.105.19.61  2  Badlands  #badlands   \n",
       "\n",
       "                           start_date    end_date           created_at  \\\n",
       "date                                                                     \n",
       "2018-01-26 09:55:03+00:00  2014-02-04  2014-04-22  2016-06-14 19:52:26   \n",
       "2018-01-26 09:56:02+00:00  2014-02-04  2014-04-22  2016-06-14 19:52:26   \n",
       "2018-01-26 09:56:05+00:00  2014-02-04  2014-04-22  2016-06-14 19:52:26   \n",
       "2018-01-26 09:56:06+00:00  2014-02-04  2014-04-22  2016-06-14 19:52:26   \n",
       "2018-01-26 09:56:24+00:00  2014-06-04  2014-08-22  2016-06-14 19:52:26   \n",
       "\n",
       "                                    updated_at deleted_at program_id  \n",
       "date                                                                  \n",
       "2018-01-26 09:55:03+00:00  2016-06-14 19:52:26       None          1  \n",
       "2018-01-26 09:56:02+00:00  2016-06-14 19:52:26       None          1  \n",
       "2018-01-26 09:56:05+00:00  2016-06-14 19:52:26       None          1  \n",
       "2018-01-26 09:56:06+00:00  2016-06-14 19:52:26       None          1  \n",
       "2018-01-26 09:56:24+00:00  2016-06-14 19:52:26       None          1  "
      ]
     },
     "execution_count": 16,
     "metadata": {},
     "output_type": "execute_result"
    }
   ],
   "source": [
    "df.head()"
   ]
  },
  {
   "cell_type": "code",
   "execution_count": 17,
   "id": "f9e03f85",
   "metadata": {},
   "outputs": [],
   "source": [
    "# now I need to do a little more prepping"
   ]
  },
  {
   "cell_type": "code",
   "execution_count": 18,
   "id": "d0736d8a",
   "metadata": {},
   "outputs": [],
   "source": [
    "df = df.drop(columns= 'deleted_at')"
   ]
  },
  {
   "cell_type": "code",
   "execution_count": 19,
   "id": "73754652",
   "metadata": {},
   "outputs": [
    {
     "data": {
      "text/plain": [
       "path             0\n",
       "user_id          0\n",
       "cohort_id     1334\n",
       "ip               0\n",
       "id               0\n",
       "name             0\n",
       "slack            0\n",
       "start_date       0\n",
       "end_date         0\n",
       "created_at       0\n",
       "updated_at       0\n",
       "program_id       0\n",
       "dtype: int64"
      ]
     },
     "execution_count": 19,
     "metadata": {},
     "output_type": "execute_result"
    }
   ],
   "source": [
    "df.isna().sum()"
   ]
  },
  {
   "cell_type": "code",
   "execution_count": 20,
   "id": "03192205",
   "metadata": {},
   "outputs": [],
   "source": [
    "df.dropna(axis = 0,inplace = True)"
   ]
  },
  {
   "cell_type": "code",
   "execution_count": 21,
   "id": "f9f86983",
   "metadata": {},
   "outputs": [
    {
     "data": {
      "text/html": [
       "<div>\n",
       "<style scoped>\n",
       "    .dataframe tbody tr th:only-of-type {\n",
       "        vertical-align: middle;\n",
       "    }\n",
       "\n",
       "    .dataframe tbody tr th {\n",
       "        vertical-align: top;\n",
       "    }\n",
       "\n",
       "    .dataframe thead th {\n",
       "        text-align: right;\n",
       "    }\n",
       "</style>\n",
       "<table border=\"1\" class=\"dataframe\">\n",
       "  <thead>\n",
       "    <tr style=\"text-align: right;\">\n",
       "      <th></th>\n",
       "      <th>path</th>\n",
       "      <th>user_id</th>\n",
       "      <th>cohort_id</th>\n",
       "      <th>ip</th>\n",
       "      <th>id</th>\n",
       "      <th>name</th>\n",
       "      <th>slack</th>\n",
       "      <th>start_date</th>\n",
       "      <th>end_date</th>\n",
       "      <th>created_at</th>\n",
       "      <th>updated_at</th>\n",
       "      <th>program_id</th>\n",
       "    </tr>\n",
       "    <tr>\n",
       "      <th>date</th>\n",
       "      <th></th>\n",
       "      <th></th>\n",
       "      <th></th>\n",
       "      <th></th>\n",
       "      <th></th>\n",
       "      <th></th>\n",
       "      <th></th>\n",
       "      <th></th>\n",
       "      <th></th>\n",
       "      <th></th>\n",
       "      <th></th>\n",
       "      <th></th>\n",
       "    </tr>\n",
       "  </thead>\n",
       "  <tbody>\n",
       "    <tr>\n",
       "      <th>2018-01-26 09:55:03+00:00</th>\n",
       "      <td>/</td>\n",
       "      <td>1</td>\n",
       "      <td>8.0</td>\n",
       "      <td>97.105.19.61</td>\n",
       "      <td>1</td>\n",
       "      <td>Arches</td>\n",
       "      <td>#arches</td>\n",
       "      <td>2014-02-04</td>\n",
       "      <td>2014-04-22</td>\n",
       "      <td>2016-06-14 19:52:26</td>\n",
       "      <td>2016-06-14 19:52:26</td>\n",
       "      <td>1</td>\n",
       "    </tr>\n",
       "    <tr>\n",
       "      <th>2018-01-26 09:56:02+00:00</th>\n",
       "      <td>java-ii</td>\n",
       "      <td>1</td>\n",
       "      <td>8.0</td>\n",
       "      <td>97.105.19.61</td>\n",
       "      <td>1</td>\n",
       "      <td>Arches</td>\n",
       "      <td>#arches</td>\n",
       "      <td>2014-02-04</td>\n",
       "      <td>2014-04-22</td>\n",
       "      <td>2016-06-14 19:52:26</td>\n",
       "      <td>2016-06-14 19:52:26</td>\n",
       "      <td>1</td>\n",
       "    </tr>\n",
       "    <tr>\n",
       "      <th>2018-01-26 09:56:05+00:00</th>\n",
       "      <td>java-ii/object-oriented-programming</td>\n",
       "      <td>1</td>\n",
       "      <td>8.0</td>\n",
       "      <td>97.105.19.61</td>\n",
       "      <td>1</td>\n",
       "      <td>Arches</td>\n",
       "      <td>#arches</td>\n",
       "      <td>2014-02-04</td>\n",
       "      <td>2014-04-22</td>\n",
       "      <td>2016-06-14 19:52:26</td>\n",
       "      <td>2016-06-14 19:52:26</td>\n",
       "      <td>1</td>\n",
       "    </tr>\n",
       "    <tr>\n",
       "      <th>2018-01-26 09:56:06+00:00</th>\n",
       "      <td>slides/object_oriented_programming</td>\n",
       "      <td>1</td>\n",
       "      <td>8.0</td>\n",
       "      <td>97.105.19.61</td>\n",
       "      <td>1</td>\n",
       "      <td>Arches</td>\n",
       "      <td>#arches</td>\n",
       "      <td>2014-02-04</td>\n",
       "      <td>2014-04-22</td>\n",
       "      <td>2016-06-14 19:52:26</td>\n",
       "      <td>2016-06-14 19:52:26</td>\n",
       "      <td>1</td>\n",
       "    </tr>\n",
       "    <tr>\n",
       "      <th>2018-01-26 09:56:24+00:00</th>\n",
       "      <td>javascript-i/conditionals</td>\n",
       "      <td>2</td>\n",
       "      <td>22.0</td>\n",
       "      <td>97.105.19.61</td>\n",
       "      <td>2</td>\n",
       "      <td>Badlands</td>\n",
       "      <td>#badlands</td>\n",
       "      <td>2014-06-04</td>\n",
       "      <td>2014-08-22</td>\n",
       "      <td>2016-06-14 19:52:26</td>\n",
       "      <td>2016-06-14 19:52:26</td>\n",
       "      <td>1</td>\n",
       "    </tr>\n",
       "  </tbody>\n",
       "</table>\n",
       "</div>"
      ],
      "text/plain": [
       "                                                          path user_id  \\\n",
       "date                                                                     \n",
       "2018-01-26 09:55:03+00:00                                    /       1   \n",
       "2018-01-26 09:56:02+00:00                              java-ii       1   \n",
       "2018-01-26 09:56:05+00:00  java-ii/object-oriented-programming       1   \n",
       "2018-01-26 09:56:06+00:00   slides/object_oriented_programming       1   \n",
       "2018-01-26 09:56:24+00:00            javascript-i/conditionals       2   \n",
       "\n",
       "                          cohort_id            ip id      name      slack  \\\n",
       "date                                                                        \n",
       "2018-01-26 09:55:03+00:00       8.0  97.105.19.61  1    Arches    #arches   \n",
       "2018-01-26 09:56:02+00:00       8.0  97.105.19.61  1    Arches    #arches   \n",
       "2018-01-26 09:56:05+00:00       8.0  97.105.19.61  1    Arches    #arches   \n",
       "2018-01-26 09:56:06+00:00       8.0  97.105.19.61  1    Arches    #arches   \n",
       "2018-01-26 09:56:24+00:00      22.0  97.105.19.61  2  Badlands  #badlands   \n",
       "\n",
       "                           start_date    end_date           created_at  \\\n",
       "date                                                                     \n",
       "2018-01-26 09:55:03+00:00  2014-02-04  2014-04-22  2016-06-14 19:52:26   \n",
       "2018-01-26 09:56:02+00:00  2014-02-04  2014-04-22  2016-06-14 19:52:26   \n",
       "2018-01-26 09:56:05+00:00  2014-02-04  2014-04-22  2016-06-14 19:52:26   \n",
       "2018-01-26 09:56:06+00:00  2014-02-04  2014-04-22  2016-06-14 19:52:26   \n",
       "2018-01-26 09:56:24+00:00  2014-06-04  2014-08-22  2016-06-14 19:52:26   \n",
       "\n",
       "                                    updated_at program_id  \n",
       "date                                                       \n",
       "2018-01-26 09:55:03+00:00  2016-06-14 19:52:26          1  \n",
       "2018-01-26 09:56:02+00:00  2016-06-14 19:52:26          1  \n",
       "2018-01-26 09:56:05+00:00  2016-06-14 19:52:26          1  \n",
       "2018-01-26 09:56:06+00:00  2016-06-14 19:52:26          1  \n",
       "2018-01-26 09:56:24+00:00  2016-06-14 19:52:26          1  "
      ]
     },
     "execution_count": 21,
     "metadata": {},
     "output_type": "execute_result"
    }
   ],
   "source": [
    "df.head()"
   ]
  },
  {
   "cell_type": "code",
   "execution_count": 22,
   "id": "00330bf7",
   "metadata": {},
   "outputs": [
    {
     "data": {
      "text/plain": [
       "path          0\n",
       "user_id       0\n",
       "cohort_id     0\n",
       "ip            0\n",
       "id            0\n",
       "name          0\n",
       "slack         0\n",
       "start_date    0\n",
       "end_date      0\n",
       "created_at    0\n",
       "updated_at    0\n",
       "program_id    0\n",
       "dtype: int64"
      ]
     },
     "execution_count": 22,
     "metadata": {},
     "output_type": "execute_result"
    }
   ],
   "source": [
    "df.isna().sum()"
   ]
  },
  {
   "cell_type": "code",
   "execution_count": 23,
   "id": "23faf425",
   "metadata": {},
   "outputs": [],
   "source": [
    "request_path_and_params = df.path.str.split('/', expand=True)\n",
    "request_path_and_params = request_path_and_params.drop(columns=[2,3,4,5,6])"
   ]
  },
  {
   "cell_type": "code",
   "execution_count": 24,
   "id": "1f574e39",
   "metadata": {},
   "outputs": [
    {
     "data": {
      "text/plain": [
       "(72405, 12)"
      ]
     },
     "execution_count": 24,
     "metadata": {},
     "output_type": "execute_result"
    }
   ],
   "source": [
    "df.shape"
   ]
  },
  {
   "cell_type": "code",
   "execution_count": 25,
   "id": "ee535e95",
   "metadata": {},
   "outputs": [
    {
     "data": {
      "text/plain": [
       "(72405, 2)"
      ]
     },
     "execution_count": 25,
     "metadata": {},
     "output_type": "execute_result"
    }
   ],
   "source": [
    "request_path_and_params.columns = ['request_path', 'request_params']\n",
    "#df = df.drop(columns='path').join(request_path_and_params)\n",
    "request_path_and_params.shape"
   ]
  },
  {
   "cell_type": "code",
   "execution_count": 35,
   "id": "7777c2d4",
   "metadata": {},
   "outputs": [],
   "source": [
    "result = pd.concat([df, request_path_and_params],axis = 1)"
   ]
  },
  {
   "cell_type": "code",
   "execution_count": 36,
   "id": "c551fd89",
   "metadata": {},
   "outputs": [
    {
     "data": {
      "text/html": [
       "<div>\n",
       "<style scoped>\n",
       "    .dataframe tbody tr th:only-of-type {\n",
       "        vertical-align: middle;\n",
       "    }\n",
       "\n",
       "    .dataframe tbody tr th {\n",
       "        vertical-align: top;\n",
       "    }\n",
       "\n",
       "    .dataframe thead th {\n",
       "        text-align: right;\n",
       "    }\n",
       "</style>\n",
       "<table border=\"1\" class=\"dataframe\">\n",
       "  <thead>\n",
       "    <tr style=\"text-align: right;\">\n",
       "      <th></th>\n",
       "      <th>path</th>\n",
       "      <th>user_id</th>\n",
       "      <th>cohort_id</th>\n",
       "      <th>ip</th>\n",
       "      <th>id</th>\n",
       "      <th>name</th>\n",
       "      <th>slack</th>\n",
       "      <th>start_date</th>\n",
       "      <th>end_date</th>\n",
       "      <th>created_at</th>\n",
       "      <th>updated_at</th>\n",
       "      <th>program_id</th>\n",
       "      <th>request_path</th>\n",
       "      <th>request_params</th>\n",
       "    </tr>\n",
       "    <tr>\n",
       "      <th>date</th>\n",
       "      <th></th>\n",
       "      <th></th>\n",
       "      <th></th>\n",
       "      <th></th>\n",
       "      <th></th>\n",
       "      <th></th>\n",
       "      <th></th>\n",
       "      <th></th>\n",
       "      <th></th>\n",
       "      <th></th>\n",
       "      <th></th>\n",
       "      <th></th>\n",
       "      <th></th>\n",
       "      <th></th>\n",
       "    </tr>\n",
       "  </thead>\n",
       "  <tbody>\n",
       "    <tr>\n",
       "      <th>2018-01-26 09:55:03+00:00</th>\n",
       "      <td>/</td>\n",
       "      <td>1</td>\n",
       "      <td>8.0</td>\n",
       "      <td>97.105.19.61</td>\n",
       "      <td>1</td>\n",
       "      <td>Arches</td>\n",
       "      <td>#arches</td>\n",
       "      <td>2014-02-04</td>\n",
       "      <td>2014-04-22</td>\n",
       "      <td>2016-06-14 19:52:26</td>\n",
       "      <td>2016-06-14 19:52:26</td>\n",
       "      <td>1</td>\n",
       "      <td></td>\n",
       "      <td></td>\n",
       "    </tr>\n",
       "    <tr>\n",
       "      <th>2018-01-26 09:56:02+00:00</th>\n",
       "      <td>java-ii</td>\n",
       "      <td>1</td>\n",
       "      <td>8.0</td>\n",
       "      <td>97.105.19.61</td>\n",
       "      <td>1</td>\n",
       "      <td>Arches</td>\n",
       "      <td>#arches</td>\n",
       "      <td>2014-02-04</td>\n",
       "      <td>2014-04-22</td>\n",
       "      <td>2016-06-14 19:52:26</td>\n",
       "      <td>2016-06-14 19:52:26</td>\n",
       "      <td>1</td>\n",
       "      <td>java-ii</td>\n",
       "      <td>None</td>\n",
       "    </tr>\n",
       "    <tr>\n",
       "      <th>2018-01-26 09:56:05+00:00</th>\n",
       "      <td>java-ii/object-oriented-programming</td>\n",
       "      <td>1</td>\n",
       "      <td>8.0</td>\n",
       "      <td>97.105.19.61</td>\n",
       "      <td>1</td>\n",
       "      <td>Arches</td>\n",
       "      <td>#arches</td>\n",
       "      <td>2014-02-04</td>\n",
       "      <td>2014-04-22</td>\n",
       "      <td>2016-06-14 19:52:26</td>\n",
       "      <td>2016-06-14 19:52:26</td>\n",
       "      <td>1</td>\n",
       "      <td>java-ii</td>\n",
       "      <td>object-oriented-programming</td>\n",
       "    </tr>\n",
       "    <tr>\n",
       "      <th>2018-01-26 09:56:06+00:00</th>\n",
       "      <td>slides/object_oriented_programming</td>\n",
       "      <td>1</td>\n",
       "      <td>8.0</td>\n",
       "      <td>97.105.19.61</td>\n",
       "      <td>1</td>\n",
       "      <td>Arches</td>\n",
       "      <td>#arches</td>\n",
       "      <td>2014-02-04</td>\n",
       "      <td>2014-04-22</td>\n",
       "      <td>2016-06-14 19:52:26</td>\n",
       "      <td>2016-06-14 19:52:26</td>\n",
       "      <td>1</td>\n",
       "      <td>slides</td>\n",
       "      <td>object_oriented_programming</td>\n",
       "    </tr>\n",
       "    <tr>\n",
       "      <th>2018-01-26 09:56:24+00:00</th>\n",
       "      <td>javascript-i/conditionals</td>\n",
       "      <td>2</td>\n",
       "      <td>22.0</td>\n",
       "      <td>97.105.19.61</td>\n",
       "      <td>2</td>\n",
       "      <td>Badlands</td>\n",
       "      <td>#badlands</td>\n",
       "      <td>2014-06-04</td>\n",
       "      <td>2014-08-22</td>\n",
       "      <td>2016-06-14 19:52:26</td>\n",
       "      <td>2016-06-14 19:52:26</td>\n",
       "      <td>1</td>\n",
       "      <td>javascript-i</td>\n",
       "      <td>conditionals</td>\n",
       "    </tr>\n",
       "  </tbody>\n",
       "</table>\n",
       "</div>"
      ],
      "text/plain": [
       "                                                          path user_id  \\\n",
       "date                                                                     \n",
       "2018-01-26 09:55:03+00:00                                    /       1   \n",
       "2018-01-26 09:56:02+00:00                              java-ii       1   \n",
       "2018-01-26 09:56:05+00:00  java-ii/object-oriented-programming       1   \n",
       "2018-01-26 09:56:06+00:00   slides/object_oriented_programming       1   \n",
       "2018-01-26 09:56:24+00:00            javascript-i/conditionals       2   \n",
       "\n",
       "                          cohort_id            ip id      name      slack  \\\n",
       "date                                                                        \n",
       "2018-01-26 09:55:03+00:00       8.0  97.105.19.61  1    Arches    #arches   \n",
       "2018-01-26 09:56:02+00:00       8.0  97.105.19.61  1    Arches    #arches   \n",
       "2018-01-26 09:56:05+00:00       8.0  97.105.19.61  1    Arches    #arches   \n",
       "2018-01-26 09:56:06+00:00       8.0  97.105.19.61  1    Arches    #arches   \n",
       "2018-01-26 09:56:24+00:00      22.0  97.105.19.61  2  Badlands  #badlands   \n",
       "\n",
       "                           start_date    end_date           created_at  \\\n",
       "date                                                                     \n",
       "2018-01-26 09:55:03+00:00  2014-02-04  2014-04-22  2016-06-14 19:52:26   \n",
       "2018-01-26 09:56:02+00:00  2014-02-04  2014-04-22  2016-06-14 19:52:26   \n",
       "2018-01-26 09:56:05+00:00  2014-02-04  2014-04-22  2016-06-14 19:52:26   \n",
       "2018-01-26 09:56:06+00:00  2014-02-04  2014-04-22  2016-06-14 19:52:26   \n",
       "2018-01-26 09:56:24+00:00  2014-06-04  2014-08-22  2016-06-14 19:52:26   \n",
       "\n",
       "                                    updated_at program_id  request_path  \\\n",
       "date                                                                      \n",
       "2018-01-26 09:55:03+00:00  2016-06-14 19:52:26          1                 \n",
       "2018-01-26 09:56:02+00:00  2016-06-14 19:52:26          1       java-ii   \n",
       "2018-01-26 09:56:05+00:00  2016-06-14 19:52:26          1       java-ii   \n",
       "2018-01-26 09:56:06+00:00  2016-06-14 19:52:26          1        slides   \n",
       "2018-01-26 09:56:24+00:00  2016-06-14 19:52:26          1  javascript-i   \n",
       "\n",
       "                                        request_params  \n",
       "date                                                    \n",
       "2018-01-26 09:55:03+00:00                               \n",
       "2018-01-26 09:56:02+00:00                         None  \n",
       "2018-01-26 09:56:05+00:00  object-oriented-programming  \n",
       "2018-01-26 09:56:06+00:00  object_oriented_programming  \n",
       "2018-01-26 09:56:24+00:00                 conditionals  "
      ]
     },
     "execution_count": 36,
     "metadata": {},
     "output_type": "execute_result"
    }
   ],
   "source": [
    "result.head()"
   ]
  },
  {
   "cell_type": "markdown",
   "id": "ab2a4c6b",
   "metadata": {},
   "source": [
    "QUESTION: Why is the row count doubled? I concatenated them horizontally"
   ]
  },
  {
   "cell_type": "code",
   "execution_count": 37,
   "id": "b4ed555d",
   "metadata": {},
   "outputs": [
    {
     "data": {
      "text/plain": [
       "(72405, 14)"
      ]
     },
     "execution_count": 37,
     "metadata": {},
     "output_type": "execute_result"
    }
   ],
   "source": [
    "result.shape"
   ]
  },
  {
   "cell_type": "code",
   "execution_count": 38,
   "id": "672d68a5",
   "metadata": {},
   "outputs": [
    {
     "data": {
      "text/plain": [
       "path                  0\n",
       "user_id               0\n",
       "cohort_id             0\n",
       "ip                    0\n",
       "id                    0\n",
       "name                  0\n",
       "slack                 0\n",
       "start_date            0\n",
       "end_date              0\n",
       "created_at            0\n",
       "updated_at            0\n",
       "program_id            0\n",
       "request_path          0\n",
       "request_params    14537\n",
       "dtype: int64"
      ]
     },
     "execution_count": 38,
     "metadata": {},
     "output_type": "execute_result"
    }
   ],
   "source": [
    "result.isna().sum()"
   ]
  },
  {
   "cell_type": "code",
   "execution_count": 39,
   "id": "8cb55741",
   "metadata": {},
   "outputs": [],
   "source": [
    "# result = result.dropna()\n",
    "# result.shape"
   ]
  },
  {
   "cell_type": "code",
   "execution_count": 40,
   "id": "c9055095",
   "metadata": {},
   "outputs": [
    {
     "data": {
      "image/png": "[encoded data removed]",
      "text/plain": [
       "<Figure size 432x288 with 1 Axes>"
      ]
     },
     "metadata": {
      "needs_background": "light"
     },
     "output_type": "display_data"
    },
    {
     "data": {
      "image/png": "[encoded data removed]",
      "text/plain": [
       "<Figure size 432x288 with 1 Axes>"
      ]
     },
     "metadata": {
      "needs_background": "light"
     },
     "output_type": "display_data"
    },
    {
     "data": {
      "image/png": "[encoded data removed]",
      "text/plain": [
       "<Figure size 432x288 with 1 Axes>"
      ]
     },
     "metadata": {
      "needs_background": "light"
     },
     "output_type": "display_data"
    },
    {
     "data": {
      "image/png": "[encoded data removed]",
      "text/plain": [
       "<Figure size 432x288 with 1 Axes>"
      ]
     },
     "metadata": {
      "needs_background": "light"
     },
     "output_type": "display_data"
    },
    {
     "data": {
      "image/png": "[encoded data removed]",
      "text/plain": [
       "<Figure size 432x288 with 1 Axes>"
      ]
     },
     "metadata": {
      "needs_background": "light"
     },
     "output_type": "display_data"
    },
    {
     "data": {
      "image/png": "[encoded data removed]",
      "text/plain": [
       "<Figure size 432x288 with 1 Axes>"
      ]
     },
     "metadata": {
      "needs_background": "light"
     },
     "output_type": "display_data"
    },
    {
     "data": {
      "image/png": "[encoded data removed]",
      "text/plain": [
       "<Figure size 432x288 with 1 Axes>"
      ]
     },
     "metadata": {
      "needs_background": "light"
     },
     "output_type": "display_data"
    },
    {
     "data": {
      "image/png": "[encoded data removed]",
      "text/plain": [
       "<Figure size 432x288 with 1 Axes>"
      ]
     },
     "metadata": {
      "needs_background": "light"
     },
     "output_type": "display_data"
    },
    {
     "data": {
      "image/png": "[encoded data removed]",
      "text/plain": [
       "<Figure size 432x288 with 1 Axes>"
      ]
     },
     "metadata": {
      "needs_background": "light"
     },
     "output_type": "display_data"
    },
    {
     "data": {
      "image/png": "[encoded data removed]",
      "text/plain": [
       "<Figure size 432x288 with 1 Axes>"
      ]
     },
     "metadata": {
      "needs_background": "light"
     },
     "output_type": "display_data"
    },
    {
     "data": {
      "image/png": "[encoded data removed]",
      "text/plain": [
       "<Figure size 432x288 with 1 Axes>"
      ]
     },
     "metadata": {
      "needs_background": "light"
     },
     "output_type": "display_data"
    },
    {
     "data": {
      "image/png": "[encoded data removed]",
      "text/plain": [
       "<Figure size 432x288 with 1 Axes>"
      ]
     },
     "metadata": {
      "needs_background": "light"
     },
     "output_type": "display_data"
    }
   ],
   "source": [
    "for col in df.columns:\n",
    "    plt.figure()\n",
    "    df[col].value_counts().sort_values(ascending = False).head(10).plot.barh(title = col)"
   ]
  },
  {
   "cell_type": "code",
   "execution_count": null,
   "id": "d93fee63",
   "metadata": {},
   "outputs": [],
   "source": [
    "# 2. "
   ]
  },
  {
   "cell_type": "code",
   "execution_count": null,
   "id": "71535644",
   "metadata": {},
   "outputs": [],
   "source": []
  },
  {
   "cell_type": "code",
   "execution_count": null,
   "id": "5df59d97",
   "metadata": {},
   "outputs": [],
   "source": []
  },
  {
   "cell_type": "code",
   "execution_count": null,
   "id": "a8d4f6fc",
   "metadata": {},
   "outputs": [],
   "source": []
  },
  {
   "cell_type": "code",
   "execution_count": null,
   "id": "e3804f79",
   "metadata": {},
   "outputs": [],
   "source": []
  },
  {
   "cell_type": "code",
   "execution_count": null,
   "id": "34db63bf",
   "metadata": {},
   "outputs": [],
   "source": []
  },
  {
   "cell_type": "code",
   "execution_count": null,
   "id": "1a40d530",
   "metadata": {},
   "outputs": [],
   "source": []
  },
  {
   "cell_type": "code",
   "execution_count": null,
   "id": "0fbe69b7",
   "metadata": {},
   "outputs": [],
   "source": []
  },
  {
   "cell_type": "code",
   "execution_count": null,
   "id": "13e4c375",
   "metadata": {},
   "outputs": [],
   "source": []
  },
  {
   "cell_type": "markdown",
   "id": "d10f9094",
   "metadata": {},
   "source": [
    "for these ip addresses with more than one start date any ip location other than \n",
    "97.105.19.61 which I determined was the Code up location may be anomalies, so let's look at just those other addresses"
   ]
  },
  {
   "cell_type": "code",
   "execution_count": null,
   "id": "5f137b7d",
   "metadata": {},
   "outputs": [],
   "source": []
  }
 ],
 "metadata": {
  "kernelspec": {
   "display_name": "Python 3",
   "language": "python",
   "name": "python3"
  },
  "language_info": {
   "codemirror_mode": {
    "name": "ipython",
    "version": 3
   },
   "file_extension": ".py",
   "mimetype": "text/x-python",
   "name": "python",
   "nbconvert_exporter": "python",
   "pygments_lexer": "ipython3",
   "version": "3.8.8"
  }
 },
 "nbformat": 4,
 "nbformat_minor": 5
}
